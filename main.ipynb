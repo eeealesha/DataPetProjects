{
 "cells": [
  {
   "cell_type": "code",
   "execution_count": null,
   "metadata": {},
   "outputs": [],
   "source": [
    "# необходимые библиотеки\n",
    "\n",
    "import requests\n",
    "import pandas as pd"
   ]
  },
  {
   "cell_type": "code",
   "execution_count": null,
   "metadata": {},
   "outputs": [],
   "source": [
    "\n",
    "# функция для преобразования словаря в data frame \n",
    "\n",
    "def request_world_bank_data(countries, indicators, start_date, end_date, verify = None):\n",
    "    base_url = \"https://api.worldbank.org/v2/country/\"\n",
    "    format = \"json\"\n",
    "    data = {}\n",
    "\n",
    "    for country in countries:\n",
    "        for indicator in indicators:\n",
    "            url = f\"{base_url}{country}/indicator/{indicator}?format={format}&date={start_date}:{end_date}\"\n",
    "            response = requests.get(url, verify=verify)\n",
    "\n",
    "            if response.status_code == 200:\n",
    "                json_data = response.json()\n",
    "\n",
    "                # Достаем данные из JSON \n",
    "                country_name = json_data[1][0]['country']['value']\n",
    "                indicator_name = json_data[1][0]['indicator']['value']\n",
    "                values = [(entry['date'], entry['value']) for entry in json_data[1] if entry['value'] is not None]\n",
    "\n",
    "                # Записываем данные в словарь\n",
    "                if country_name not in data:\n",
    "                    data[country_name] = {}\n",
    "\n",
    "                data[country_name][indicator_name] = values\n",
    "\n",
    "    return data\n"
   ]
  },
  {
   "cell_type": "code",
   "execution_count": null,
   "metadata": {},
   "outputs": [],
   "source": [
    "# функция для преобразования словаря в data frame \n",
    "\n",
    "def create_df(data):\n",
    "    df = pd.DataFrame()\n",
    "    for country, indicators in data.items():\n",
    "        for indicator, values in indicators.items():\n",
    "            temp_df = pd.DataFrame(values, columns=['Year', indicator])\n",
    "            temp_df.set_index('Year', inplace=True)\n",
    "            temp_df.columns = pd.MultiIndex.from_product([[country], [indicator]])\n",
    "            df = pd.concat([df, temp_df], axis=1)\n",
    "\n",
    "    df.index.name = 'Year'\n",
    "    df.sort_index(ascending=True, inplace=True)\n",
    "    return df"
   ]
  },
  {
   "cell_type": "code",
   "execution_count": null,
   "metadata": {},
   "outputs": [],
   "source": [
    "# задаем параметры функции \n",
    "\n",
    "countries = [\"USA\", \"GBR\"]\n",
    "indicators = [\"SP.POP.TOTL\", \"NY.GDP.MKTP.CD\"]\n",
    "start_date = \"2015\"\n",
    "end_date = \"2020\"\n",
    "\n",
    "data = request_world_bank_data(countries, indicators, start_date, end_date)\n",
    "\n",
    "df = create_df(data)\n",
    "df"
   ]
  }
 ],
 "metadata": {
  "language_info": {
   "name": "python"
  },
  "orig_nbformat": 4
 },
 "nbformat": 4,
 "nbformat_minor": 2
}
